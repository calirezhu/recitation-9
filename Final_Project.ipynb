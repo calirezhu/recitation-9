{
  "nbformat": 4,
  "nbformat_minor": 0,
  "metadata": {
    "colab": {
      "name": "Final Project.ipynb",
      "provenance": [],
      "authorship_tag": "ABX9TyMR29Rs9oi7q8sdOc0zzXm0",
      "include_colab_link": true
    },
    "kernelspec": {
      "name": "python3",
      "display_name": "Python 3"
    },
    "language_info": {
      "name": "python"
    }
  },
  "cells": [
    {
      "cell_type": "markdown",
      "metadata": {
        "id": "view-in-github",
        "colab_type": "text"
      },
      "source": [
        "<a href=\"https://colab.research.google.com/github/calirezhu/recitation-9/blob/main/Final_Project.ipynb\" target=\"_parent\"><img src=\"https://colab.research.google.com/assets/colab-badge.svg\" alt=\"Open In Colab\"/></a>"
      ]
    },
    {
      "cell_type": "code",
      "execution_count": null,
      "metadata": {
        "colab": {
          "resources": {
            "http://localhost:8080/nbextensions/google.colab/files.js": {
              "data": "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",
              "ok": true,
              "headers": [
                [
                  "content-type",
                  "application/javascript"
                ]
              ],
              "status": 200,
              "status_text": ""
            }
          },
          "base_uri": "https://localhost:8080/",
          "height": 76
        },
        "id": "BtOaShz74KXB",
        "outputId": "c7519f5e-5801-40c4-f5d3-aa97dcee7184"
      },
      "outputs": [
        {
          "output_type": "display_data",
          "data": {
            "text/plain": [
              "<IPython.core.display.HTML object>"
            ],
            "text/html": [
              "\n",
              "     <input type=\"file\" id=\"files-1496ac37-87d7-4e0b-b242-da21b6982adf\" name=\"files[]\" multiple disabled\n",
              "        style=\"border:none\" />\n",
              "     <output id=\"result-1496ac37-87d7-4e0b-b242-da21b6982adf\">\n",
              "      Upload widget is only available when the cell has been executed in the\n",
              "      current browser session. Please rerun this cell to enable.\n",
              "      </output>\n",
              "      <script src=\"/nbextensions/google.colab/files.js\"></script> "
            ]
          },
          "metadata": {}
        },
        {
          "output_type": "stream",
          "name": "stdout",
          "text": [
            "Saving responses.csv to responses.csv\n"
          ]
        }
      ],
      "source": [
        "# upload the csv file \n",
        "from google.colab import files\n",
        "uploaded = files.upload()"
      ]
    },
    {
      "cell_type": "code",
      "source": [
        "# calculate the total number of sample\n",
        "import csv\n",
        "with open('responses.csv') as csvfile:\n",
        "    reader = csv.DictReader(csvfile)\n",
        "    column_num = [row['#'] for row in reader]\n",
        "    count=0\n",
        "    for i in column_num:\n",
        "      count+=1\n",
        "    print(\"The total number of our sample is \"+ str(count))"
      ],
      "metadata": {
        "colab": {
          "base_uri": "https://localhost:8080/"
        },
        "id": "7IsyXxoG4jCu",
        "outputId": "aeb0e538-15d6-463e-a612-4545d4675991"
      },
      "execution_count": null,
      "outputs": [
        {
          "output_type": "stream",
          "name": "stdout",
          "text": [
            "The total number of our sample is 168\n"
          ]
        }
      ]
    },
    {
      "cell_type": "code",
      "source": [
        "import pandas as pd\n",
        "df = pd.read_csv('responses.csv')"
      ],
      "metadata": {
        "id": "gbtB9w0I-PcG"
      },
      "execution_count": null,
      "outputs": []
    },
    {
      "cell_type": "code",
      "source": [
        "# region of southwest \n",
        "# find all data of southwest delete when finsih\n",
        "df_region_southwest=df[df['Where do you live in America？'] == 'Southwest（Oklahoma, Texas, Arizona, New Mexico）']\n",
        "for index, row in df_region_southwest.iterrows():\n",
        "  print('The index '+ str(index)+' are from southwest')"
      ],
      "metadata": {
        "colab": {
          "base_uri": "https://localhost:8080/"
        },
        "id": "MIinURI2B7ZB",
        "outputId": "3f2a956d-1bc8-45f6-fa1c-f86a56b1b3d7"
      },
      "execution_count": null,
      "outputs": [
        {
          "output_type": "stream",
          "name": "stdout",
          "text": [
            "The index 0 are from southwest\n",
            "The index 1 are from southwest\n",
            "The index 4 are from southwest\n",
            "The index 7 are from southwest\n",
            "The index 20 are from southwest\n",
            "The index 23 are from southwest\n",
            "The index 25 are from southwest\n",
            "The index 28 are from southwest\n",
            "The index 33 are from southwest\n",
            "The index 39 are from southwest\n",
            "The index 41 are from southwest\n",
            "The index 45 are from southwest\n",
            "The index 57 are from southwest\n",
            "The index 60 are from southwest\n",
            "The index 62 are from southwest\n",
            "The index 73 are from southwest\n",
            "The index 80 are from southwest\n",
            "The index 86 are from southwest\n",
            "The index 87 are from southwest\n",
            "The index 88 are from southwest\n",
            "The index 89 are from southwest\n",
            "The index 90 are from southwest\n",
            "The index 95 are from southwest\n",
            "The index 97 are from southwest\n",
            "The index 98 are from southwest\n",
            "The index 102 are from southwest\n",
            "The index 121 are from southwest\n",
            "The index 123 are from southwest\n"
          ]
        }
      ]
    },
    {
      "cell_type": "code",
      "source": [
        "# def a function and get the list of all the budget in each area \n",
        "def get_budget(region):\n",
        "  df_region=df[df['Where do you live in America？']==region]\n",
        "  budget_region=[]\n",
        "  budget_region_list=df_region.loc[:,'How much did you spend on Legos last year? （In dollars）']\n",
        "  for item in budget_region_list:\n",
        "    budget_region.append(item)\n",
        "  return(budget_region)\n",
        "budget_southwest=get_budget('Southwest（Oklahoma, Texas, Arizona, New Mexico）')\n",
        "budget_northeast=get_budget('Northeast（Maine, New Hampshire, Vermont, Massachusetts, Rhode Island, Connecticut, New York, Pennsylvania, New Jersey, Delaware, Maryland, Washington, D.C.）')\n",
        "budget_midwest=get_budget('Midwest（Wisconsin, Michigan, Illinois, Indiana, Ohio, Missouri, North Dakota, South Dakota, Nebraska, Kansas, Minnesota, Iowa）')\n",
        "budget_west=get_budget('West（Washington, Oregon, California, Idaho, Montana, Wyoming, Nevada, Utah, Colorado, Alaska, Hawaii）')\n",
        "budget_southeast=get_budget('Southeast（Virginia, West Virginia, North Carolina, South Carolina, Georgia, Florida, Kentucky, Tennessee, Mississippi, Alabama, Arkansas, Louisiana）')"
      ],
      "metadata": {
        "id": "UrflPcULfE3L"
      },
      "execution_count": null,
      "outputs": []
    },
    {
      "cell_type": "code",
      "source": [
        "print(budget_southwest)\n",
        "print(budget_northeast)\n",
        "print(budget_midwest)\n",
        "print(budget_west)\n",
        "print(budget_southeast)"
      ],
      "metadata": {
        "colab": {
          "base_uri": "https://localhost:8080/"
        },
        "id": "ScBNBRp0hyCI",
        "outputId": "e37c6806-3f85-4aa5-f841-2ca5975ab9a5"
      },
      "execution_count": null,
      "outputs": [
        {
          "output_type": "stream",
          "name": "stdout",
          "text": [
            "['200$--500$', 'less than  50$', 'less than  50$', 'less than  50$', '50$ -- 200$', 'less than  50$', 'less than  50$', 'less than  50$', 'less than  50$', 'less than  50$', 'less than  50$', 'less than  50$', '50$ -- 200$', '200$--500$', '500$--1000$', '200$--500$', '50$ -- 200$', '50$ -- 200$', '50$ -- 200$', '1000$--2000$', '50$ -- 200$', '50$ -- 200$', '50$ -- 200$', '200$--500$', '50$ -- 200$', '1000$--2000$', 'less than  50$', '200$--500$']\n",
            "['1000$--2000$', '1000$--2000$', '500$--1000$', '200$--500$', '200$--500$', '500$--1000$', 'less than  50$', '1000$--2000$', '500$--1000$', '200$--500$', '500$--1000$', '200$--500$', '500$--1000$', '1000$--2000$', '1000$--2000$', '1000$--2000$', '500$--1000$', '500$--1000$', '200$--500$', '200$--500$', '500$--1000$', '1000$--2000$', '500$--1000$', 'less than  50$', '50$ -- 200$', '200$--500$', nan, '200$--500$', '50$ -- 200$', 'less than  50$', '50$ -- 200$', '500$--1000$', 'less than  50$', '50$ -- 200$', '50$ -- 200$', '50$ -- 200$', '50$ -- 200$', '50$ -- 200$', '200$--500$', 'less than  50$', '500$--1000$', 'less than  50$', 'less than  50$', 'less than  50$', 'less than  50$', '200$--500$', '50$ -- 200$', '50$ -- 200$', 'less than  50$', 'less than  50$', 'less than  50$', '200$--500$', 'less than  50$', '50$ -- 200$', '50$ -- 200$']\n",
            "['200$--500$', '200$--500$', '500$--1000$', 'less than  50$', '200$--500$', '50$ -- 200$', '50$ -- 200$', '50$ -- 200$', '50$ -- 200$', 'less than  50$', '200$--500$', '1000$--2000$', 'less than  50$', '50$ -- 200$', '200$--500$', '1000$--2000$', '200$--500$', '200$--500$', '500$--1000$', 'less than  50$', 'less than  50$', '50$ -- 200$', '50$ -- 200$', '50$ -- 200$', 'less than  50$']\n",
            "['50$ -- 200$', 'less than  50$', '500$--1000$', '50$ -- 200$', '200$--500$', '50$ -- 200$', '50$ -- 200$', '500$--1000$', 'less than  50$', 'less than  50$', '500$--1000$', 'less than  50$', '200$--500$', '200$--500$', '1000$--2000$', '500$--1000$', '200$--500$', '200$--500$', '1000$--2000$', '1000$--2000$', '500$--1000$', '50$ -- 200$', '500$--1000$', 'less than  50$', 'less than  50$', 'less than  50$', 'less than  50$', '1000$--2000$', 'less than  50$', 'less than  50$', 'less than  50$', '50$ -- 200$', '200$--500$']\n",
            "['500$--1000$', '1000$--2000$', '500$--1000$', 'less than  50$', '1000$--2000$', '200$--500$', 'less than  50$', '200$--500$', '500$--1000$', 'less than  50$', '50$ -- 200$', '50$ -- 200$', '50$ -- 200$', '50$ -- 200$', '1000$--2000$', '1000$--2000$', '1000$--2000$', '50$ -- 200$', '200$--500$', '500$--1000$', '200$--500$', '200$--500$', '200$--500$', '50$ -- 200$', '200$--500$', 'less than  50$', 'less than  50$']\n"
          ]
        }
      ]
    },
    {
      "cell_type": "code",
      "source": [
        "# filter the invalid data.      #怎么去掉nan\n",
        "def filter_valid(budget_list):\n",
        "  budget_region_list=[]\n",
        "  for value in budget_list:\n",
        "    if value != 'nan':\n",
        "      budget_region_list.append(value)\n",
        "    else:\n",
        "      pass\n",
        "  return budget_region_list\n",
        "filter_valid(budget_northeast)"
      ],
      "metadata": {
        "colab": {
          "base_uri": "https://localhost:8080/"
        },
        "id": "K9Lp2qRliBea",
        "outputId": "19c5b00d-596e-4b60-f134-5883f9cc45a3"
      },
      "execution_count": null,
      "outputs": [
        {
          "output_type": "execute_result",
          "data": {
            "text/plain": [
              "['1000$--2000$',\n",
              " '1000$--2000$',\n",
              " '500$--1000$',\n",
              " '200$--500$',\n",
              " '200$--500$',\n",
              " '500$--1000$',\n",
              " 'less than  50$',\n",
              " '1000$--2000$',\n",
              " '500$--1000$',\n",
              " '200$--500$',\n",
              " '500$--1000$',\n",
              " '200$--500$',\n",
              " '500$--1000$',\n",
              " '1000$--2000$',\n",
              " '1000$--2000$',\n",
              " '1000$--2000$',\n",
              " '500$--1000$',\n",
              " '500$--1000$',\n",
              " '200$--500$',\n",
              " '200$--500$',\n",
              " '500$--1000$',\n",
              " '1000$--2000$',\n",
              " '500$--1000$',\n",
              " 'less than  50$',\n",
              " '50$ -- 200$',\n",
              " '200$--500$',\n",
              " nan,\n",
              " '200$--500$',\n",
              " '50$ -- 200$',\n",
              " 'less than  50$',\n",
              " '50$ -- 200$',\n",
              " '500$--1000$',\n",
              " 'less than  50$',\n",
              " '50$ -- 200$',\n",
              " '50$ -- 200$',\n",
              " '50$ -- 200$',\n",
              " '50$ -- 200$',\n",
              " '50$ -- 200$',\n",
              " '200$--500$',\n",
              " 'less than  50$',\n",
              " '500$--1000$',\n",
              " 'less than  50$',\n",
              " 'less than  50$',\n",
              " 'less than  50$',\n",
              " 'less than  50$',\n",
              " '200$--500$',\n",
              " '50$ -- 200$',\n",
              " '50$ -- 200$',\n",
              " 'less than  50$',\n",
              " 'less than  50$',\n",
              " 'less than  50$',\n",
              " '200$--500$',\n",
              " 'less than  50$',\n",
              " '50$ -- 200$',\n",
              " '50$ -- 200$']"
            ]
          },
          "metadata": {},
          "execution_count": 7
        }
      ]
    },
    {
      "cell_type": "code",
      "source": [
        "# get percentage of budget \n",
        "def get_per_budget(region):\n",
        "  df_per_region=df[df['Where do you live in America？']==region]\n",
        "  budget_per_region=[]\n",
        "  budget_per_region_list=df_per_region.loc[:,'What percentage of all your game and toy spending does Lego spend?']\n",
        "  for item in budget_per_region_list:\n",
        "    budget_per_region.append(item)\n",
        "  return(budget_per_region)\n",
        "budget_per_southwest=get_per_budget('Southwest（Oklahoma, Texas, Arizona, New Mexico）')\n",
        "budget_per_northeast=get_per_budget('Northeast（Maine, New Hampshire, Vermont, Massachusetts, Rhode Island, Connecticut, New York, Pennsylvania, New Jersey, Delaware, Maryland, Washington, D.C.）')\n",
        "budget_per_midwest=get_per_budget('Midwest（Wisconsin, Michigan, Illinois, Indiana, Ohio, Missouri, North Dakota, South Dakota, Nebraska, Kansas, Minnesota, Iowa）')\n",
        "budget_per_west=get_per_budget('West（Washington, Oregon, California, Idaho, Montana, Wyoming, Nevada, Utah, Colorado, Alaska, Hawaii）')\n",
        "budget_per_southeast=get_per_budget('Southeast（Virginia, West Virginia, North Carolina, South Carolina, Georgia, Florida, Kentucky, Tennessee, Mississippi, Alabama, Arkansas, Louisiana）')\n",
        "print(budget_per_southwest)\n",
        "print(budget_per_northeast)\n",
        "print(budget_per_midwest)\n",
        "print(budget_per_west)\n",
        "print(budget_per_southeast)"
      ],
      "metadata": {
        "colab": {
          "base_uri": "https://localhost:8080/"
        },
        "id": "_VghCCnUolqD",
        "outputId": "d3be5681-52e3-42d1-c4dd-e82d878bce3f"
      },
      "execution_count": null,
      "outputs": [
        {
          "output_type": "stream",
          "name": "stdout",
          "text": [
            "['twenty percent to fifty percent', 'less than five percent', 'five percent to ten percent', 'less than five percent', 'less than five percent', 'less than five percent', 'twenty percent to fifty percent', 'five percent to ten percent', 'less than five percent', 'five percent to ten percent', 'less than five percent', 'less than five percent', 'ten percent to twenty percent', 'more than fifty percent', 'more than fifty percent', 'twenty percent to fifty percent', 'ten percent to twenty percent', 'twenty percent to fifty percent', 'twenty percent to fifty percent', 'more than fifty percent', 'less than five percent', 'more than fifty percent', 'five percent to ten percent', 'ten percent to twenty percent', 'five percent to ten percent', 'more than fifty percent', 'less than five percent', 'less than five percent']\n",
            "['twenty percent to fifty percent', 'twenty percent to fifty percent', 'more than fifty percent', 'more than fifty percent', 'five percent to ten percent', 'ten percent to twenty percent', 'less than five percent', 'more than fifty percent', 'ten percent to twenty percent', 'five percent to ten percent', 'five percent to ten percent', 'ten percent to twenty percent', 'more than fifty percent', 'more than fifty percent', 'twenty percent to fifty percent', 'twenty percent to fifty percent', 'twenty percent to fifty percent', 'twenty percent to fifty percent', 'twenty percent to fifty percent', 'more than fifty percent', 'five percent to ten percent', 'more than fifty percent', 'twenty percent to fifty percent', 'five percent to ten percent', 'less than five percent', 'less than five percent', 'less than five percent', 'five percent to ten percent', 'less than five percent', 'less than five percent', 'twenty percent to fifty percent', 'less than five percent', 'less than five percent', 'less than five percent', 'five percent to ten percent', 'less than five percent', 'more than fifty percent', 'five percent to ten percent', 'more than fifty percent', 'less than five percent', 'less than five percent', 'less than five percent', 'less than five percent', 'less than five percent', 'less than five percent', 'twenty percent to fifty percent', 'less than five percent', 'less than five percent', 'twenty percent to fifty percent', 'twenty percent to fifty percent', 'less than five percent', 'five percent to ten percent', 'less than five percent', 'five percent to ten percent', 'less than five percent']\n",
            "['more than fifty percent', 'twenty percent to fifty percent', 'more than fifty percent', 'less than five percent', 'ten percent to twenty percent', 'five percent to ten percent', 'five percent to ten percent', 'twenty percent to fifty percent', 'twenty percent to fifty percent', 'less than five percent', 'more than fifty percent', 'more than fifty percent', 'five percent to ten percent', 'five percent to ten percent', 'more than fifty percent', 'twenty percent to fifty percent', 'more than fifty percent', 'more than fifty percent', 'twenty percent to fifty percent', 'less than five percent', 'more than fifty percent', 'twenty percent to fifty percent', 'less than five percent', 'less than five percent', 'less than five percent']\n",
            "['less than five percent', 'less than five percent', 'less than five percent', 'less than five percent', 'more than fifty percent', 'ten percent to twenty percent', 'twenty percent to fifty percent', 'more than fifty percent', 'less than five percent', 'ten percent to twenty percent', 'five percent to ten percent', 'less than five percent', 'more than fifty percent', 'twenty percent to fifty percent', 'more than fifty percent', 'twenty percent to fifty percent', 'more than fifty percent', 'ten percent to twenty percent', 'more than fifty percent', 'more than fifty percent', 'twenty percent to fifty percent', 'less than five percent', 'five percent to ten percent', 'less than five percent', 'less than five percent', 'less than five percent', 'twenty percent to fifty percent', 'less than five percent', 'less than five percent', 'five percent to ten percent', 'less than five percent', 'more than fifty percent', 'five percent to ten percent']\n",
            "['five percent to ten percent', 'more than fifty percent', 'ten percent to twenty percent', 'less than five percent', 'twenty percent to fifty percent', 'ten percent to twenty percent', 'less than five percent', 'more than fifty percent', 'ten percent to twenty percent', 'less than five percent', 'twenty percent to fifty percent', 'ten percent to twenty percent', 'five percent to ten percent', 'five percent to ten percent', 'more than fifty percent', 'more than fifty percent', 'twenty percent to fifty percent', 'less than five percent', 'more than fifty percent', 'twenty percent to fifty percent', 'twenty percent to fifty percent', 'twenty percent to fifty percent', 'twenty percent to fifty percent', 'less than five percent', 'five percent to ten percent', 'less than five percent', 'less than five percent']\n"
          ]
        }
      ]
    },
    {
      "cell_type": "code",
      "source": [
        "# for calculate the fequncy of each chooce happen in (absolute value of budget)\n",
        "def get_frequency(budget_list):\n",
        "  less_than_fifty=0\n",
        "  fifity_to_twohundred=0\n",
        "  twohundred_fivehundred=0\n",
        "  fivehundred_onethousand=0\n",
        "  onethousand_twothousand=0\n",
        "  for i in budget_list:\n",
        "    if i=='less than  50$':\n",
        "      less_than_fifty+=1\n",
        "    elif i == '50$ -- 200$':\n",
        "      fifity_to_twohundred+=1\n",
        "    elif i== '200$--500$':\n",
        "      twohundred_fivehundred+=1\n",
        "    elif i == '500$--1000$':\n",
        "      fivehundred_onethousand+=1\n",
        "    elif i == '1000$--2000$':\n",
        "      onethousand_twothousand+=1\n",
        "  return less_than_fifty,fifity_to_twohundred,twohundred_fivehundred,fivehundred_onethousand,onethousand_twothousand\n",
        "frequency_southeast=get_frequency(budget_southwest)\n",
        "frequency_northeast=get_frequency(budget_northeast)\n",
        "frequency_midwest=get_frequency(budget_midwest)\n",
        "frequency_west=get_frequency(budget_west)\n",
        "frequency_southwest=get_frequency(budget_southeast)\n",
        "print(frequency_southeast)\n",
        "print(frequency_northeast)\n",
        "print(frequency_midwest)\n",
        "print(frequency_west)\n",
        "print(frequency_southwest)"
      ],
      "metadata": {
        "colab": {
          "base_uri": "https://localhost:8080/"
        },
        "id": "UHZyqtDMpbO5",
        "outputId": "7e67f234-c469-48c8-cede-09c50808aaba"
      },
      "execution_count": null,
      "outputs": [
        {
          "output_type": "stream",
          "name": "stdout",
          "text": [
            "(11, 9, 5, 1, 2)\n",
            "(13, 12, 11, 11, 7)\n",
            "(6, 8, 7, 2, 2)\n",
            "(11, 6, 6, 6, 4)\n",
            "(5, 6, 7, 4, 5)\n"
          ]
        }
      ]
    },
    {
      "cell_type": "code",
      "source": [
        "# for loop calculate the frequency of pecentage budget \n",
        "def get_per_frequency(budget_per_list):\n",
        "  less_than_fiftyper=0\n",
        "  fiveper_to_tenper=0\n",
        "  tenper_to_twentyper=0\n",
        "  twntyper_fifper=0\n",
        "  more_than_fif=0\n",
        "  for i in budget_per_list:\n",
        "    if i=='less than five percent':\n",
        "      less_than_fiftyper+=1\n",
        "    elif i == 'five percent to ten percent':\n",
        "      fiveper_to_tenper+=1\n",
        "    elif i == 'ten percent to twenty percent':\n",
        "      tenper_to_twentyper+=1\n",
        "    elif i== 'twenty percent to fifty percent':\n",
        "      twntyper_fifper+=1\n",
        "    elif i == 'more than fifty percent':\n",
        "      more_than_fif+=1\n",
        "  return less_than_fiftyper,fiveper_to_tenper,tenper_to_twentyper,twntyper_fifper,more_than_fif\n",
        "frequency_per_southeast=get_per_frequency(budget_per_southwest)\n",
        "frequency_per_northeast=get_per_frequency(budget_per_northeast)\n",
        "frequency_per_midwest=get_per_frequency(budget_per_midwest)\n",
        "frequency_per_west=get_per_frequency(budget_per_west)\n",
        "frequency_per_southwest=get_per_frequency(budget_per_southwest)\n",
        "print(frequency_per_southeast)\n",
        "print(frequency_per_northeast)\n",
        "print(frequency_per_midwest)\n",
        "print(frequency_per_west)\n",
        "print(frequency_per_southwest)"
      ],
      "metadata": {
        "colab": {
          "base_uri": "https://localhost:8080/"
        },
        "id": "EvfRGSSzu9V6",
        "outputId": "a22bbda4-4641-4477-ce80-74b3d79e54a5"
      },
      "execution_count": null,
      "outputs": [
        {
          "output_type": "stream",
          "name": "stdout",
          "text": [
            "(10, 5, 3, 5, 5)\n",
            "(21, 10, 3, 12, 9)\n",
            "(6, 4, 1, 6, 8)\n",
            "(13, 4, 3, 5, 8)\n",
            "(10, 5, 3, 5, 5)\n"
          ]
        }
      ]
    },
    {
      "cell_type": "code",
      "source": [
        "# calcuate total sample in the area\n",
        "def get_totalsample_region(frequencylist):\n",
        "  count_sample=0\n",
        "  for i in frequencylist:\n",
        "    count_sample+=i\n",
        "    return count_sample \n",
        "sample_southeast=get_totalsample_region(frequency_southeast)\n",
        "sample_northeast=get_totalsample_region(frequency_northeast)\n",
        "sample_midwest=get_totalsample_region(frequency_midwest)\n",
        "sample_west=get_totalsample_region(frequency_west)\n",
        "sample_southwest=get_totalsample_region(frequency_southwest)"
      ],
      "metadata": {
        "id": "ccX0ZwC153RV"
      },
      "execution_count": null,
      "outputs": []
    },
    {
      "cell_type": "code",
      "source": [
        "# plot diagram of budget and region\n",
        "import pandas as pd\n",
        "import matplotlib.pyplot as plt\n",
        "import numpy as np\n",
        "budget_range=['less than 50','50$-200$','200$-500$','500$-1000$','1000$-2000$']\n",
        "budget_per_range=['less than 5%','5%-10%','10%-20%','20%-50%','more than 50%']\n",
        "#southeast budget\n",
        "print('There are '+str(sample_southeast)+'in southeast')\n",
        "x=pd.Series(budget_range)\n",
        "y=pd.Series(frequency_southeast)\n",
        "plt.bar(x, height=y, color='dodgerblue')\n",
        "plt.ylim(0,13) \n",
        "plt.title('southeast',fontsize=16)\n",
        "plt.xlabel('budget',fontsize=12)\n",
        "plt.ylabel('frequency', fontsize=12)\n",
        "for a, b in zip(x, y):\n",
        "    plt.text(a, b, b, ha='center', va='bottom', fontsize=8)\n"
      ],
      "metadata": {
        "colab": {
          "base_uri": "https://localhost:8080/",
          "height": 320
        },
        "id": "GAJARZ3k5pCP",
        "outputId": "d3009401-ead3-413e-db6a-251d6a5939ce"
      },
      "execution_count": null,
      "outputs": [
        {
          "output_type": "stream",
          "name": "stdout",
          "text": [
            "There are 11in southeast\n"
          ]
        },
        {
          "output_type": "display_data",
          "data": {
            "text/plain": [
              "<Figure size 432x288 with 1 Axes>"
            ],
            "image/png": "[encoded data removed]"
          },
          "metadata": {
            "needs_background": "light"
          }
        }
      ]
    },
    {
      "cell_type": "code",
      "source": [
        "# southeast percentage\n",
        "x=pd.Series(budget_per_range)\n",
        "y=pd.Series(frequency_per_southeast)\n",
        "plt.bar(x, height=y, color='dodgerblue')\n",
        "plt.ylim(0,21) \n",
        "plt.title('southeast(per)',fontsize=16)\n",
        "plt.xlabel('percentage of total toy spending',fontsize=12)\n",
        "plt.ylabel('frequency', fontsize=12)\n",
        "for a, b in zip(x, y):\n",
        "    plt.text(a, b, b, ha='center', va='bottom', fontsize=8)"
      ],
      "metadata": {
        "colab": {
          "base_uri": "https://localhost:8080/",
          "height": 300
        },
        "id": "cZ4A-P5c7PUt",
        "outputId": "a773c8c8-c95e-48f8-f985-bd3d9594d123"
      },
      "execution_count": null,
      "outputs": [
        {
          "output_type": "display_data",
          "data": {
            "text/plain": [
              "<Figure size 432x288 with 1 Axes>"
            ],
            "image/png": "[encoded data removed]"
          },
          "metadata": {
            "needs_background": "light"
          }
        }
      ]
    },
    {
      "cell_type": "code",
      "source": [
        "#northeast budget\n",
        "print('There are '+str(sample_northeast)+'in northeast')\n",
        "x=pd.Series(budget_range)\n",
        "y=pd.Series(frequency_northeast)\n",
        "plt.bar(x, height=y, color='dodgerblue')\n",
        "plt.ylim(0,13) \n",
        "plt.title('northeast',fontsize=16)\n",
        "plt.xlabel('budget',fontsize=12)\n",
        "plt.ylabel('frequency', fontsize=12)\n",
        "for a, b in zip(x, y):\n",
        "    plt.text(a, b, b, ha='center', va='bottom', fontsize=8)"
      ],
      "metadata": {
        "colab": {
          "base_uri": "https://localhost:8080/",
          "height": 320
        },
        "id": "n8rXvbcGSy76",
        "outputId": "af8b4293-aecc-4cfc-e071-6437a3de8d99"
      },
      "execution_count": null,
      "outputs": [
        {
          "output_type": "stream",
          "name": "stdout",
          "text": [
            "There are 13in northeast\n"
          ]
        },
        {
          "output_type": "display_data",
          "data": {
            "text/plain": [
              "<Figure size 432x288 with 1 Axes>"
            ],
            "image/png": "[encoded data removed]"
          },
          "metadata": {
            "needs_background": "light"
          }
        }
      ]
    },
    {
      "cell_type": "code",
      "source": [
        "# northeast percentage\n",
        "x=pd.Series(budget_per_range)\n",
        "y=pd.Series(frequency_per_northeast)\n",
        "plt.bar(x, height=y, color='dodgerblue')\n",
        "plt.ylim(0,21) \n",
        "plt.title('northeast(per)',fontsize=16)\n",
        "plt.xlabel('percentage of total toy spending',fontsize=12)\n",
        "plt.ylabel('frequency', fontsize=12)\n",
        "for a, b in zip(x, y):\n",
        "    plt.text(a, b, b, ha='center', va='bottom', fontsize=8)"
      ],
      "metadata": {
        "colab": {
          "base_uri": "https://localhost:8080/",
          "height": 300
        },
        "id": "6KXoAtW17TdS",
        "outputId": "32654d56-5c5d-4f12-91f8-e1c3d0759bcf"
      },
      "execution_count": null,
      "outputs": [
        {
          "output_type": "display_data",
          "data": {
            "text/plain": [
              "<Figure size 432x288 with 1 Axes>"
            ],
            "image/png": "[encoded data removed]"
          },
          "metadata": {
            "needs_background": "light"
          }
        }
      ]
    },
    {
      "cell_type": "code",
      "source": [
        "#midwest\n",
        "print('There are '+str(sample_midwest)+'in midwest')\n",
        "x=pd.Series(budget_range)\n",
        "y=pd.Series(frequency_midwest)\n",
        "plt.bar(x, height=y, color='dodgerblue')\n",
        "plt.ylim(0,13) \n",
        "plt.title('midwest',fontsize=16)\n",
        "plt.xlabel('budget',fontsize=12)\n",
        "plt.ylabel('frequency', fontsize=12)\n",
        "for a, b in zip(x, y):\n",
        "    plt.text(a, b, b, ha='center', va='bottom', fontsize=8)"
      ],
      "metadata": {
        "colab": {
          "base_uri": "https://localhost:8080/",
          "height": 320
        },
        "id": "hheVcf20S2Tk",
        "outputId": "e91a6d45-7c6d-496e-f4c1-4dbb3660e443"
      },
      "execution_count": null,
      "outputs": [
        {
          "output_type": "stream",
          "name": "stdout",
          "text": [
            "There are 6in midwest\n"
          ]
        },
        {
          "output_type": "display_data",
          "data": {
            "text/plain": [
              "<Figure size 432x288 with 1 Axes>"
            ],
            "image/png": "[encoded data removed]"
          },
          "metadata": {
            "needs_background": "light"
          }
        }
      ]
    },
    {
      "cell_type": "code",
      "source": [
        "#midwest percentage\n",
        "x=pd.Series(budget_per_range)\n",
        "y=pd.Series(frequency_per_midwest)\n",
        "plt.bar(x, height=y, color='dodgerblue')\n",
        "plt.ylim(0,21) \n",
        "plt.title('midwest(per)',fontsize=16)\n",
        "plt.xlabel('percentage of total toy spending',fontsize=12)\n",
        "plt.ylabel('frequency', fontsize=12)\n",
        "for a, b in zip(x, y):\n",
        "    plt.text(a, b, b, ha='center', va='bottom', fontsize=8)"
      ],
      "metadata": {
        "colab": {
          "base_uri": "https://localhost:8080/",
          "height": 300
        },
        "id": "E4nuEIkF7ifA",
        "outputId": "54ba8059-2b5e-4266-fbfb-8845829ce225"
      },
      "execution_count": null,
      "outputs": [
        {
          "output_type": "display_data",
          "data": {
            "text/plain": [
              "<Figure size 432x288 with 1 Axes>"
            ],
            "image/png": "[encoded data removed]"
          },
          "metadata": {
            "needs_background": "light"
          }
        }
      ]
    },
    {
      "cell_type": "code",
      "source": [
        "#west\n",
        "print('There are '+str(sample_west)+'in west')\n",
        "x=pd.Series(budget_range)\n",
        "y=pd.Series(frequency_west)\n",
        "plt.bar(x, height=y, color='dodgerblue')\n",
        "plt.ylim(0,13) \n",
        "plt.title('west',fontsize=16)\n",
        "plt.xlabel('budget',fontsize=12)\n",
        "plt.ylabel('frequency', fontsize=12)\n",
        "for a, b in zip(x, y):\n",
        "    plt.text(a, b, b, ha='center', va='bottom', fontsize=8)"
      ],
      "metadata": {
        "colab": {
          "base_uri": "https://localhost:8080/",
          "height": 320
        },
        "id": "48RKGpqmUDYI",
        "outputId": "c2184dc7-087f-431c-e677-79ac6b308fca"
      },
      "execution_count": null,
      "outputs": [
        {
          "output_type": "stream",
          "name": "stdout",
          "text": [
            "There are 11in west\n"
          ]
        },
        {
          "output_type": "display_data",
          "data": {
            "text/plain": [
              "<Figure size 432x288 with 1 Axes>"
            ],
            "image/png": "[encoded data removed]"
          },
          "metadata": {
            "needs_background": "light"
          }
        }
      ]
    },
    {
      "cell_type": "code",
      "source": [
        "# west percentage\n",
        "x=pd.Series(budget_per_range)\n",
        "y=pd.Series(frequency_per_west)\n",
        "plt.bar(x, height=y, color='dodgerblue')\n",
        "plt.ylim(0,21) \n",
        "plt.title('west(per)',fontsize=16)\n",
        "plt.xlabel('percentage of total toy spending',fontsize=12)\n",
        "plt.ylabel('frequency', fontsize=12)\n",
        "for a, b in zip(x, y):\n",
        "    plt.text(a, b, b, ha='center', va='bottom', fontsize=8)"
      ],
      "metadata": {
        "colab": {
          "base_uri": "https://localhost:8080/",
          "height": 300
        },
        "id": "jA2GiKRF73UE",
        "outputId": "054a9b90-c96b-4320-a05a-b5660efb630c"
      },
      "execution_count": null,
      "outputs": [
        {
          "output_type": "display_data",
          "data": {
            "text/plain": [
              "<Figure size 432x288 with 1 Axes>"
            ],
            "image/png": "[encoded data removed]"
          },
          "metadata": {
            "needs_background": "light"
          }
        }
      ]
    },
    {
      "cell_type": "code",
      "source": [
        "#southwest\n",
        "print('There are '+str(sample_southwest)+'in southwest')\n",
        "x=pd.Series(budget_range)\n",
        "y=pd.Series(frequency_southwest)\n",
        "plt.bar(x, height=y, color='dodgerblue')\n",
        "plt.ylim(0,13) \n",
        "plt.title('southwest',fontsize=16)\n",
        "plt.xlabel('budget',fontsize=12)\n",
        "plt.ylabel('frequency', fontsize=12)\n",
        "for a, b in zip(x, y):\n",
        "    plt.text(a, b, b, ha='center', va='bottom', fontsize=8)"
      ],
      "metadata": {
        "colab": {
          "base_uri": "https://localhost:8080/",
          "height": 320
        },
        "id": "_K-Wjn4pUcG7",
        "outputId": "8a39a1d0-3495-425a-ce40-5bd4416d4049"
      },
      "execution_count": null,
      "outputs": [
        {
          "output_type": "stream",
          "name": "stdout",
          "text": [
            "There are 5in southwest\n"
          ]
        },
        {
          "output_type": "display_data",
          "data": {
            "text/plain": [
              "<Figure size 432x288 with 1 Axes>"
            ],
            "image/png": "[encoded data removed]"
          },
          "metadata": {
            "needs_background": "light"
          }
        }
      ]
    },
    {
      "cell_type": "code",
      "source": [
        "#southwest percentage\n",
        "x=pd.Series(budget_per_range)\n",
        "y=pd.Series(frequency_per_southwest)\n",
        "plt.bar(x, height=y, color='dodgerblue')\n",
        "plt.ylim(0,21) \n",
        "plt.title('southwest(per)',fontsize=16)\n",
        "plt.xlabel('percentage of total toy spending',fontsize=12)\n",
        "plt.ylabel('frequency', fontsize=12)\n",
        "for a, b in zip(x, y):\n",
        "    plt.text(a, b, b, ha='center', va='bottom', fontsize=8)\n"
      ],
      "metadata": {
        "colab": {
          "base_uri": "https://localhost:8080/",
          "height": 300
        },
        "id": "fF9MXrqLeKn-",
        "outputId": "2facc936-154f-4c0f-8da5-0429004b9e73"
      },
      "execution_count": null,
      "outputs": [
        {
          "output_type": "display_data",
          "data": {
            "text/plain": [
              "<Figure size 432x288 with 1 Axes>"
            ],
            "image/png": "[encoded data removed]"
          },
          "metadata": {
            "needs_background": "light"
          }
        }
      ]
    },
    {
      "cell_type": "code",
      "source": [
        "# data -- east / west \n",
        "# east= southeast and northeast"
      ],
      "metadata": {
        "colab": {
          "base_uri": "https://localhost:8080/",
          "height": 244
        },
        "id": "TJG73UMn4o_d",
        "outputId": "9bfc3583-cb28-4eb9-e328-246e219997a3"
      },
      "execution_count": null,
      "outputs": [
        {
          "output_type": "error",
          "ename": "NameError",
          "evalue": "ignored",
          "traceback": [
            "\u001b[0;31m---------------------------------------------------------------------------\u001b[0m",
            "\u001b[0;31mNameError\u001b[0m                                 Traceback (most recent call last)",
            "\u001b[0;32m<ipython-input-3-60390d35c314>\u001b[0m in \u001b[0;36m<module>\u001b[0;34m()\u001b[0m\n\u001b[1;32m      1\u001b[0m \u001b[0;31m# data -- east / west\u001b[0m\u001b[0;34m\u001b[0m\u001b[0;34m\u001b[0m\u001b[0;34m\u001b[0m\u001b[0m\n\u001b[1;32m      2\u001b[0m \u001b[0;31m# east= southeast and northeast\u001b[0m\u001b[0;34m\u001b[0m\u001b[0;34m\u001b[0m\u001b[0;34m\u001b[0m\u001b[0m\n\u001b[0;32m----> 3\u001b[0;31m \u001b[0;32mfor\u001b[0m \u001b[0mi\u001b[0m \u001b[0;32min\u001b[0m \u001b[0mfrequency_southeast\u001b[0m\u001b[0;34m:\u001b[0m\u001b[0;34m\u001b[0m\u001b[0;34m\u001b[0m\u001b[0m\n\u001b[0m\u001b[1;32m      4\u001b[0m   \u001b[0;32mfor\u001b[0m \u001b[0mj\u001b[0m \u001b[0;32min\u001b[0m \u001b[0mfrequency_northeast\u001b[0m\u001b[0;34m:\u001b[0m\u001b[0;34m\u001b[0m\u001b[0;34m\u001b[0m\u001b[0m\n\u001b[1;32m      5\u001b[0m     \u001b[0mnew_frequency\u001b[0m \u001b[0;34m=\u001b[0m \u001b[0mi\u001b[0m\u001b[0;34m+\u001b[0m\u001b[0mj\u001b[0m\u001b[0;34m\u001b[0m\u001b[0;34m\u001b[0m\u001b[0m\n",
            "\u001b[0;31mNameError\u001b[0m: name 'frequency_southeast' is not defined"
          ]
        }
      ]
    },
    {
      "cell_type": "code",
      "source": [
        "from google.colab import files\n",
        "\n",
        "uploaded = files.upload()"
      ],
      "metadata": {
        "colab": {
          "resources": {
            "http://localhost:8080/nbextensions/google.colab/files.js": {
              "data": "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",
              "ok": true,
              "headers": [
                [
                  "content-type",
                  "application/javascript"
                ]
              ],
              "status": 200,
              "status_text": ""
            }
          },
          "base_uri": "https://localhost:8080/",
          "height": 76
        },
        "id": "PMA1Hr8Z6BPm",
        "outputId": "5b7d59a8-8040-4a09-ac81-4aa196abbe94"
      },
      "execution_count": 11,
      "outputs": [
        {
          "output_type": "display_data",
          "data": {
            "text/plain": [
              "<IPython.core.display.HTML object>"
            ],
            "text/html": [
              "\n",
              "     <input type=\"file\" id=\"files-ab4565e2-4ef9-4b17-9642-49b559f71abb\" name=\"files[]\" multiple disabled\n",
              "        style=\"border:none\" />\n",
              "     <output id=\"result-ab4565e2-4ef9-4b17-9642-49b559f71abb\">\n",
              "      Upload widget is only available when the cell has been executed in the\n",
              "      current browser session. Please rerun this cell to enable.\n",
              "      </output>\n",
              "      <script src=\"/nbextensions/google.colab/files.js\"></script> "
            ]
          },
          "metadata": {}
        },
        {
          "output_type": "stream",
          "name": "stdout",
          "text": [
            "Saving st99_d00.dbf to st99_d00.dbf\n"
          ]
        }
      ]
    }
  ]
}